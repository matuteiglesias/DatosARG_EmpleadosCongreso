{
 "cells": [
  {
   "cell_type": "code",
   "execution_count": 1,
   "metadata": {
    "collapsed": true
   },
   "outputs": [],
   "source": [
    "import pandas as pd"
   ]
  },
  {
   "cell_type": "code",
   "execution_count": 4,
   "metadata": {
    "collapsed": false
   },
   "outputs": [
    {
     "data": {
      "text/html": [
       "<div>\n",
       "<style scoped>\n",
       "    .dataframe tbody tr th:only-of-type {\n",
       "        vertical-align: middle;\n",
       "    }\n",
       "\n",
       "    .dataframe tbody tr th {\n",
       "        vertical-align: top;\n",
       "    }\n",
       "\n",
       "    .dataframe thead th {\n",
       "        text-align: right;\n",
       "    }\n",
       "</style>\n",
       "<table border=\"1\" class=\"dataframe\">\n",
       "  <thead>\n",
       "    <tr style=\"text-align: right;\">\n",
       "      <th></th>\n",
       "      <th>{\"help\": \"https://datos.hcdn.gob.ar:443/api/3/action/help_show?name=datastore_search\"</th>\n",
       "      <th>\"success\": true</th>\n",
       "      <th>\"result\": {\"include_total\": true</th>\n",
       "      <th>\"resource_id\": \"6e49506e-6757-44cd-94e9-0e75f3bd8c38\"</th>\n",
       "      <th>\"fields\": [{\"type\": \"int\"</th>\n",
       "      <th>\"id\": \"_id\"}</th>\n",
       "      <th>{\"type\": \"numeric\"</th>\n",
       "      <th>\"id\": \"legajo\"}</th>\n",
       "      <th>{\"type\": \"text\"</th>\n",
       "      <th>\"id\": \"agente_apellido\"}</th>\n",
       "      <th>...</th>\n",
       "      <th>legajo:721031</th>\n",
       "      <th>agente_apellido:\"ZURANO\"</th>\n",
       "      <th>agente_nombre:\"SERGIO ERNESTO\"</th>\n",
       "      <th>escalafon:\"A-3-T\".355</th>\n",
       "      <th>estructura_desempeño:\"AGENTE AFECTADO A BLOQUE\".1777</th>\n",
       "      <th>convenio:\"PLANTA TEMPORARIA (LEY 24.600)\"}]</th>\n",
       "      <th>\"limit\": 4345</th>\n",
       "      <th>\"_links\": {\"start\": \"/api/3/action/datastore_search?limit=4345&amp;resource_id=6e49506e-6757-44cd-94e9-0e75f3bd8c38\"</th>\n",
       "      <th>\"next\": \"/api/3/action/datastore_search?offset=4345&amp;limit=4345&amp;resource_id=6e49506e-6757-44cd-94e9-0e75f3bd8c38\"}</th>\n",
       "      <th>\"total\": 4345}}</th>\n",
       "    </tr>\n",
       "  </thead>\n",
       "  <tbody>\n",
       "  </tbody>\n",
       "</table>\n",
       "<p>0 rows × 30438 columns</p>\n",
       "</div>"
      ],
      "text/plain": [
       "Empty DataFrame\n",
       "Columns: [{\"help\": \"https://datos.hcdn.gob.ar:443/api/3/action/help_show?name=datastore_search\",  \"success\": true,  \"result\": {\"include_total\": true,  \"resource_id\": \"6e49506e-6757-44cd-94e9-0e75f3bd8c38\",  \"fields\": [{\"type\": \"int\",  \"id\": \"_id\"},  {\"type\": \"numeric\",  \"id\": \"legajo\"},  {\"type\": \"text\",  \"id\": \"agente_apellido\"},  {\"type\": \"text\".1,  \"id\": \"agente_nombre\"},  {\"type\": \"text\".2,  \"id\": \"escalafon\"},  {\"type\": \"text\".3,  \"id\": \"estructura_desempe\\u00f1o\"},  {\"type\": \"text\".4,  \"id\": \"convenio\"}],  \"records_format\": \"objects\",  \"records\": [{\"_id\":1, legajo:305642, agente_apellido:\"MALDONADO RAGO\", agente_nombre:\"MARIA EVA\", escalafon:\"A-3-P\", estructura_desempeño:\"DIR. GRAL. ADMINISTRATIVA (DIR GRAL ADM)\", convenio:\"PLANTA PERMANENTE (LEY 24.600)\"}, {\"_id\":2, legajo:304340, agente_apellido:\"GAUDIO\", agente_nombre:\"CLAUDIA DOMINGA L.\", escalafon:\"A-3-P\".1, estructura_desempeño:\"DIR. GRAL. ADMINISTRATIVA (DIR GRAL ADM)\".1, convenio:\"PLANTA PERMANENTE (LEY 24.600)\"}.1, {\"_id\":3, legajo:725668, agente_apellido:\"CAMIÑAS\", agente_nombre:\"SEBASTIAN ANDRES\", escalafon:\"A-7-T\", estructura_desempeño:\"DIR. GRAL. ADMINISTRATIVA (DIR GRAL ADM)\".2, convenio:\"PLANTA TEMPORARIA (LEY 24.600)\"}, {\"_id\":4, legajo:304494, agente_apellido:\"AGUERO\", agente_nombre:\"GRACIELA ELISABET\", escalafon:\"A-3-P\".2, estructura_desempeño:\"DIR. GRAL. ADMINISTRATIVA (DIR GRAL ADM)\".3, convenio:\"PLANTA PERMANENTE (LEY 24.600)\"}.2, {\"_id\":5, legajo:724486, agente_apellido:\"ANTELO CHAVEZ\", agente_nombre:\"MATIAS\", escalafon:\"A-4-T\", estructura_desempeño:\"DIR. GRAL. ADMINISTRATIVA (DIR GRAL ADM)\".4, convenio:\"PLANTA TEMPORARIA (LEY 24.600)\"}.1, {\"_id\":6, legajo:725371, agente_apellido:\"AZZOLA\", agente_nombre:\"RICARDO GABRIEL\", escalafon:\"A-5-T\", estructura_desempeño:\"DIR. GRAL. ADMINISTRATIVA (DIR GRAL ADM)\".5, convenio:\"PLANTA TEMPORARIA (LEY 24.600)\"}.2, {\"_id\":7, legajo:724854, agente_apellido:\"BISCOTTI\", agente_nombre:\"ANTONELLA\", escalafon:\"A-8-T\", estructura_desempeño:\"DIR. GRAL. ADMINISTRATIVA (DIR GRAL ADM)\".6, convenio:\"PLANTA TEMPORARIA (LEY 24.600)\"}.3, {\"_id\":8, legajo:724634, agente_apellido:\"BRITOS\", agente_nombre:\"EDUARDO DANIEL\", escalafon:\"A-3-T\", estructura_desempeño:\"DIR. GRAL. ADMINISTRATIVA (DIR GRAL ADM)\".7, convenio:\"PLANTA TEMPORARIA (LEY 24.600)\"}.4, {\"_id\":9, legajo:725851, agente_apellido:\"BUZZI\", agente_nombre:\"EDUARDO OSCAR\", escalafon:\"A-3-T\".1, estructura_desempeño:\"DIR. GRAL. ADMINISTRATIVA (DIR GRAL ADM)\".8, convenio:\"PLANTA TEMPORARIA (LEY 24.600)\"}.5, {\"_id\":10, legajo:726449, agente_apellido:\"KARAPUTENE\", agente_nombre:\"PAULO AGUSTIN\", escalafon:\"A-7-T\".1, estructura_desempeño:\"DIR. GRAL. ADMINISTRATIVA (DIR GRAL ADM)\".9, convenio:\"PLANTA TEMPORARIA (LEY 24.600)\"}.6, {\"_id\":11, legajo:726177, agente_apellido:\"GELOSO\", agente_nombre:\"CARLOS MATIAS\", escalafon:\"A-3-T\".2, estructura_desempeño:\"DIR. GRAL. ADMINISTRATIVA (DIR GRAL ADM)\".10, convenio:\"PLANTA TEMPORARIA (LEY 24.600)\"}.7, {\"_id\":12, legajo:305142, agente_apellido:\"CASTAÑEDA\", agente_nombre:\"JORGE ALBERTO\", ...]\n",
       "Index: []\n",
       "\n",
       "[0 rows x 30438 columns]"
      ]
     },
     "execution_count": 4,
     "metadata": {},
     "output_type": "execute_result"
    }
   ],
   "source": [
    "pd.read_csv('./datastore_search.json')"
   ]
  },
  {
   "cell_type": "code",
   "execution_count": null,
   "metadata": {
    "collapsed": true
   },
   "outputs": [],
   "source": []
  }
 ],
 "metadata": {
  "kernelspec": {
   "display_name": "Python 2",
   "language": "python",
   "name": "python2"
  },
  "language_info": {
   "codemirror_mode": {
    "name": "ipython",
    "version": 2
   },
   "file_extension": ".py",
   "mimetype": "text/x-python",
   "name": "python",
   "nbconvert_exporter": "python",
   "pygments_lexer": "ipython2",
   "version": "2.7.13"
  }
 },
 "nbformat": 4,
 "nbformat_minor": 2
}
